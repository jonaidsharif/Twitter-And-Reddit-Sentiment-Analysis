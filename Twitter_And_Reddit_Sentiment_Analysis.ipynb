{
  "nbformat": 4,
  "nbformat_minor": 0,
  "metadata": {
    "colab": {
      "provenance": [],
      "mount_file_id": "1DO9MNQ5jmwXpun1H6Bl0xaU_bFmhd3t3",
      "authorship_tag": "ABX9TyOqP1Gz+01zLtiN+Oj8PckF",
      "include_colab_link": true
    },
    "kernelspec": {
      "name": "python3",
      "display_name": "Python 3"
    },
    "language_info": {
      "name": "python"
    }
  },
  "cells": [
    {
      "cell_type": "markdown",
      "metadata": {
        "id": "view-in-github",
        "colab_type": "text"
      },
      "source": [
        "<a href=\"https://colab.research.google.com/github/jonaidsharif/Twitter-And-Reddit-Sentiment-Analysis/blob/main/Twitter_And_Reddit_Sentiment_Analysis.ipynb\" target=\"_parent\"><img src=\"https://colab.research.google.com/assets/colab-badge.svg\" alt=\"Open In Colab\"/></a>"
      ]
    },
    {
      "cell_type": "code",
      "execution_count": null,
      "metadata": {
        "id": "9qbvOJLyKOq5"
      },
      "outputs": [],
      "source": [
        "# Impoting all the necessary library required\n",
        "import pandas as pd\n",
        "import numpy as np\n",
        "import seaborn as sns\n",
        "import matplotlib.pyplot as plt\n",
        "%matplotlib inline\n",
        "from sklearn.model_selection import train_test_split\n",
        "from tensorflow.keras.models import Model\n",
        "from tensorflow.keras.layers import Input,Dense,LSTM,GlobalMaxPooling1D,Embedding\n",
        "from tensorflow.keras.preprocessing.text import Tokenizer\n",
        "from tensorflow.keras.preprocessing.sequence import pad_sequences\n",
        "from sklearn.preprocessing import LabelEncoder\n",
        "from sklearn.metrics import classification_report,confusion_matrix\n",
        "import re,string,nltk\n",
        "import tensorflow as tf\n",
        "from nltk.corpus import stopwords\n",
        "from nltk.stem import PorterStemmer,WordNetLemmatizer\n",
        "from tensorflow.keras.callbacks import EarlyStopping"
      ]
    },
    {
      "cell_type": "code",
      "source": [
        "from google.colab import drive\n",
        "drive.mount('/content/drive')"
      ],
      "metadata": {
        "id": "LkLn9NjuKXh0"
      },
      "execution_count": null,
      "outputs": []
    },
    {
      "cell_type": "code",
      "source": [
        "import pandas as pd\n",
        "\n",
        "# Reddit Dataset\n",
        "df1 = pd.read_csv('/content/drive/MyDrive/Machine Learning/Twitter and Reddit Sentimental analysis Dataset/Reddit_Data.csv')\n",
        "df1.head()\n",
        "\n",
        "# Twitter Dataset\n",
        "df2 = pd.read_csv('/content/drive/MyDrive/Machine Learning/Twitter and Reddit Sentimental analysis Dataset/Twitter_Data.csv')\n",
        "df2.head()"
      ],
      "metadata": {
        "id": "iU3faNngKfpR"
      },
      "execution_count": null,
      "outputs": []
    },
    {
      "cell_type": "code",
      "source": [
        "df1.head()"
      ],
      "metadata": {
        "id": "qVVehBSJKomT"
      },
      "execution_count": null,
      "outputs": []
    },
    {
      "cell_type": "code",
      "source": [
        "#renaming the columns\n",
        "df2.columns=['messages','labels']\n",
        "df1.columns=['messages','labels']"
      ],
      "metadata": {
        "id": "jX446f6MLH1H"
      },
      "execution_count": null,
      "outputs": []
    },
    {
      "cell_type": "code",
      "source": [
        "df1.head()"
      ],
      "metadata": {
        "id": "NRX-0eeHLJlv"
      },
      "execution_count": null,
      "outputs": []
    },
    {
      "cell_type": "code",
      "source": [
        "df2.head()"
      ],
      "metadata": {
        "id": "ybgqybu3LLch"
      },
      "execution_count": null,
      "outputs": []
    },
    {
      "cell_type": "markdown",
      "source": [
        "## merging both the dataset"
      ],
      "metadata": {
        "id": "qVM4w1RLLRaI"
      }
    },
    {
      "cell_type": "code",
      "source": [
        "df = pd.concat([df1, df2], ignore_index = True)"
      ],
      "metadata": {
        "id": "d3XWZ7s5LNAW"
      },
      "execution_count": null,
      "outputs": []
    },
    {
      "cell_type": "code",
      "source": [
        "df['messages'].iloc[0] #iloc is used to select a row"
      ],
      "metadata": {
        "id": "4vgk2KD0LTDo"
      },
      "execution_count": null,
      "outputs": []
    },
    {
      "cell_type": "code",
      "source": [
        "df['messages'].iloc[100]"
      ],
      "metadata": {
        "id": "TwtgG5DRLU5w"
      },
      "execution_count": null,
      "outputs": []
    },
    {
      "cell_type": "code",
      "source": [
        "df.head()"
      ],
      "metadata": {
        "id": "fioqCjqHLXBq"
      },
      "execution_count": null,
      "outputs": []
    },
    {
      "cell_type": "code",
      "source": [
        "df.tail()"
      ],
      "metadata": {
        "id": "5xjL5OTRLY6J"
      },
      "execution_count": null,
      "outputs": []
    },
    {
      "cell_type": "code",
      "source": [
        "df['length']=df['messages'].str.len()"
      ],
      "metadata": {
        "id": "-9_AlJrdLaRP"
      },
      "execution_count": null,
      "outputs": []
    },
    {
      "cell_type": "code",
      "source": [
        "sns.set_style('whitegrid')\n",
        "df['length'].plot(kind='hist',bins=100,)"
      ],
      "metadata": {
        "id": "d2nFUjz3Lb-U"
      },
      "execution_count": null,
      "outputs": []
    },
    {
      "cell_type": "code",
      "source": [
        "df.info()"
      ],
      "metadata": {
        "id": "uSOykXhrLdMH"
      },
      "execution_count": null,
      "outputs": []
    },
    {
      "cell_type": "code",
      "source": [
        "df.describe().transpose()"
      ],
      "metadata": {
        "id": "mxda9PVeLess"
      },
      "execution_count": null,
      "outputs": []
    },
    {
      "cell_type": "code",
      "source": [
        "#from the describe function we got to know that the longest message is of length 8665\n",
        "df[df['length']==8665]['messages'].iloc[0]"
      ],
      "metadata": {
        "id": "efBVL0AxLgCi"
      },
      "execution_count": null,
      "outputs": []
    },
    {
      "cell_type": "code",
      "source": [
        "# mapping the labels to their respective meanings\n",
        "df['labels']=df['labels'].map({-1:'negative',0:'neutral',1:'positive'})"
      ],
      "metadata": {
        "id": "1O0VxcTsLhu2"
      },
      "execution_count": null,
      "outputs": []
    },
    {
      "cell_type": "code",
      "source": [
        "#checking the null values in the dataset\n",
        "df.isnull().sum()"
      ],
      "metadata": {
        "id": "U4MHV4vvLjGo"
      },
      "execution_count": null,
      "outputs": []
    },
    {
      "cell_type": "code",
      "source": [
        "#removing the null value witg dropna()\n",
        "df=df.dropna()"
      ],
      "metadata": {
        "id": "6ITn7HmOLkf8"
      },
      "execution_count": null,
      "outputs": []
    },
    {
      "cell_type": "code",
      "source": [
        "len(df['messages'])"
      ],
      "metadata": {
        "id": "MyBRrqFDLlv8"
      },
      "execution_count": null,
      "outputs": []
    },
    {
      "cell_type": "code",
      "source": [
        "#cleaning the data from unnecessary data\n",
        "\n",
        "#replacing url with string URL\n",
        "def replace_url(text):\n",
        "    return re.sub('https?:\\/\\/\\S*|www\\.\\S+','URL',text)\n",
        "\n",
        "#removing html\n",
        "def remove_html(text):\n",
        "    return re.sub('<.*?>','',text)\n",
        "\n",
        "#replacing mentions with string user\n",
        "def replace_mentions(text):\n",
        "    return re.sub('@\\S*','user',text,flags=re.IGNORECASE)\n",
        "\n",
        "#replacing numbers with string number\n",
        "def replace_num(text):\n",
        "    return re.sub('^[+-]*?\\d{1,3}[- ]*?\\d{1,10}|\\d{10}','NUMBER',text)\n",
        "\n",
        "#replacing <3 with sring heart\n",
        "def replace_heart(text):\n",
        "    return re.sub('<3','HEART', text)\n",
        "\n",
        "#removing alphanumeric characters eg-XYZ123ABC\n",
        "def remove_alphanumeric(text):\n",
        "    return re.sub('\\w*\\d+\\w*','',text)\n",
        "\n",
        "#removing all english stopwords\n",
        "def remove_stopwords(text):\n",
        "    text = ' '.join([word for word in text.split() if word not in stopwords.words(\"english\")])\n",
        "    return text\n",
        "\n",
        "#removing punctuations\n",
        "def remove_punctuations(text):\n",
        "    text=''.join([word for word in text if word not in string.punctuation])\n",
        "    return text\n",
        "\n",
        "#reducing words to thier root form\n",
        "def lemmatization(text):\n",
        "    lm= WordNetLemmatizer()\n",
        "    text = ' '.join([lm.lemmatize(word, pos='v') for word in text.split()])\n",
        "    return text"
      ],
      "metadata": {
        "id": "RC4GmrPjLnu9"
      },
      "execution_count": null,
      "outputs": []
    },
    {
      "cell_type": "code",
      "source": [
        "def clean_text(text):\n",
        "    text=str(text).lower()\n",
        "    text = replace_url(text)\n",
        "    text = remove_html(text)\n",
        "    text = replace_mentions(text)\n",
        "    text = replace_num(text)\n",
        "    text = replace_heart(text)\n",
        "    text = remove_alphanumeric(text)\n",
        "    text = remove_stopwords(text)\n",
        "    text=remove_punctuations(text)\n",
        "    #text=stemming(text)\n",
        "    text=lemmatization(text)\n",
        "    return text"
      ],
      "metadata": {
        "id": "mfPkX9oKLpSM"
      },
      "execution_count": null,
      "outputs": []
    },
    {
      "cell_type": "code",
      "source": [
        "import nltk\n",
        "\n",
        "# Try to find the wordnet data, if not found, download it.\n",
        "try:\n",
        "    nltk.data.find('corpora/wordnet')\n",
        "except LookupError:\n",
        "    nltk.download('wordnet')\n",
        "\n",
        "# Import the WordNet corpus\n",
        "from nltk.corpus import wordnet\n",
        "\n",
        "# Assuming df is your dataframe, and 'messages' is the column you want to clean\n",
        "# Define the clean_text function if not defined (for demonstration purposes)\n",
        "def clean_text(text):\n",
        "    # Add your text cleaning steps here (e.g., remove punctuation, lowercase, etc.)\n",
        "    return text.lower()  # Simple lowercase for demonstration\n",
        "\n",
        "# Apply clean_text function to the 'messages' column in the dataframe\n",
        "df['messages1'] = df['messages'].apply(clean_text)\n",
        "\n",
        "# Display the first few rows of the dataframe\n",
        "df.head()"
      ],
      "metadata": {
        "id": "S7I-K0akLr0i"
      },
      "execution_count": null,
      "outputs": []
    },
    {
      "cell_type": "code",
      "source": [
        "df['messages1']"
      ],
      "metadata": {
        "id": "8TfQ4Ao9L8aK"
      },
      "execution_count": null,
      "outputs": []
    },
    {
      "cell_type": "code",
      "source": [
        "#splitting the data for training and testing\n",
        "X=df['messages1'].values\n",
        "y = pd.get_dummies(df['labels']).values\n",
        "X_train,X_test,y_train,y_test=train_test_split(X,y,test_size=0.33)"
      ],
      "metadata": {
        "id": "3j1K5fl3L_g9"
      },
      "execution_count": null,
      "outputs": []
    },
    {
      "cell_type": "code",
      "source": [
        "X_train.shape"
      ],
      "metadata": {
        "id": "T1Yb6h2NMA1F"
      },
      "execution_count": null,
      "outputs": []
    },
    {
      "cell_type": "code",
      "source": [
        "#converting the messages into tokens and then converting them into matrix of integers\n",
        "Max_vocab_size=50000\n",
        "tokenizer=Tokenizer(num_words=Max_vocab_size)\n",
        "tokenizer.fit_on_texts(X_train)\n",
        "sequence_Xtrain=tokenizer.texts_to_sequences(X_train)\n",
        "sequence_Xtest=tokenizer.texts_to_sequences(X_test)"
      ],
      "metadata": {
        "id": "ms84RF5uMCHH"
      },
      "execution_count": null,
      "outputs": []
    },
    {
      "cell_type": "code",
      "source": [
        "V=len(tokenizer.word_index)"
      ],
      "metadata": {
        "id": "Xq9ccDgFMDVx"
      },
      "execution_count": null,
      "outputs": []
    },
    {
      "cell_type": "code",
      "source": [
        "tokenizer.word_index"
      ],
      "metadata": {
        "id": "tRkIIpksME6S"
      },
      "execution_count": null,
      "outputs": []
    },
    {
      "cell_type": "code",
      "source": [
        "#padding the integer matrix with zero so that all the data have the same length\n",
        "data_train=pad_sequences(sequence_Xtrain)"
      ],
      "metadata": {
        "id": "fwSd16nKMIJG"
      },
      "execution_count": null,
      "outputs": []
    },
    {
      "cell_type": "code",
      "source": [
        "T=data_train.shape[1]\n",
        "print(T)"
      ],
      "metadata": {
        "id": "U4Up-wNwMJjh"
      },
      "execution_count": null,
      "outputs": []
    },
    {
      "cell_type": "code",
      "source": [
        "data_test=pad_sequences(sequence_Xtest,maxlen=T)"
      ],
      "metadata": {
        "id": "yW6eQOAGMK9Z"
      },
      "execution_count": null,
      "outputs": []
    },
    {
      "cell_type": "code",
      "source": [
        "data_train.shape"
      ],
      "metadata": {
        "id": "1YPTsQ9nMMpB"
      },
      "execution_count": null,
      "outputs": []
    },
    {
      "cell_type": "code",
      "source": [
        "data_test.shape"
      ],
      "metadata": {
        "colab": {
          "base_uri": "https://localhost:8080/"
        },
        "id": "0_IwUZPlMN6r",
        "outputId": "0f033f07-4fc4-4604-d99e-b607a35a49da"
      },
      "execution_count": 37,
      "outputs": [
        {
          "output_type": "execute_result",
          "data": {
            "text/plain": [
              "(66039, 1301)"
            ]
          },
          "metadata": {},
          "execution_count": 37
        }
      ]
    },
    {
      "cell_type": "code",
      "source": [
        "D=20 #No of features you want\n",
        "early_stop=EarlyStopping(monitor='val_loss',mode='min',verbose=1,patience=25)\n",
        "i=Input(shape=(T,))\n",
        "x=Embedding(V+1,D)(i)\n",
        "x=LSTM(128,dropout=(0.2))(x)\n",
        "x=Dense(3,activation='softmax')(x)\n",
        "model=Model(i,x)\n",
        "model.compile(optimizer='adam',loss='categorical_crossentropy',metrics=['accuracy'])\n",
        "history=model.fit(data_train,y_train,batch_size=128,validation_data=(data_test,y_test),epochs=5,callbacks=[early_stop])"
      ],
      "metadata": {
        "colab": {
          "base_uri": "https://localhost:8080/"
        },
        "id": "TV7piPf8MPzm",
        "outputId": "22a7b591-ea67-463b-fd7c-afeeed3afb52"
      },
      "execution_count": 38,
      "outputs": [
        {
          "output_type": "stream",
          "name": "stdout",
          "text": [
            "Epoch 1/5\n",
            "\u001b[1m1048/1048\u001b[0m \u001b[32m━━━━━━━━━━━━━━━━━━━━\u001b[0m\u001b[37m\u001b[0m \u001b[1m4157s\u001b[0m 4s/step - accuracy: 0.6191 - loss: 0.8819 - val_accuracy: 0.8082 - val_loss: 0.4952\n",
            "Epoch 2/5\n",
            "\u001b[1m1048/1048\u001b[0m \u001b[32m━━━━━━━━━━━━━━━━━━━━\u001b[0m\u001b[37m\u001b[0m \u001b[1m4108s\u001b[0m 4s/step - accuracy: 0.8317 - loss: 0.4363 - val_accuracy: 0.9172 - val_loss: 0.2552\n",
            "Epoch 3/5\n",
            "\u001b[1m1048/1048\u001b[0m \u001b[32m━━━━━━━━━━━━━━━━━━━━\u001b[0m\u001b[37m\u001b[0m \u001b[1m4209s\u001b[0m 4s/step - accuracy: 0.9325 - loss: 0.2074 - val_accuracy: 0.9444 - val_loss: 0.1823\n",
            "Epoch 4/5\n",
            "\u001b[1m1048/1048\u001b[0m \u001b[32m━━━━━━━━━━━━━━━━━━━━\u001b[0m\u001b[37m\u001b[0m \u001b[1m4294s\u001b[0m 4s/step - accuracy: 0.9592 - loss: 0.1350 - val_accuracy: 0.9505 - val_loss: 0.1623\n",
            "Epoch 5/5\n",
            "\u001b[1m1048/1048\u001b[0m \u001b[32m━━━━━━━━━━━━━━━━━━━━\u001b[0m\u001b[37m\u001b[0m \u001b[1m4359s\u001b[0m 4s/step - accuracy: 0.9625 - loss: 0.1266 - val_accuracy: 0.9530 - val_loss: 0.1558\n"
          ]
        }
      ]
    },
    {
      "cell_type": "code",
      "source": [
        "model.summary()"
      ],
      "metadata": {
        "colab": {
          "base_uri": "https://localhost:8080/",
          "height": 289
        },
        "id": "IjiFrT6XMRXU",
        "outputId": "8771ef38-b377-4599-86e6-5561f11a1ac5"
      },
      "execution_count": 39,
      "outputs": [
        {
          "data": {
            "text/html": [
              "<pre style=\"white-space:pre;overflow-x:auto;line-height:normal;font-family:Menlo,'DejaVu Sans Mono',consolas,'Courier New',monospace\"><span style=\"font-weight: bold\">Model: \"functional\"</span>\n",
              "</pre>\n"
            ],
            "text/plain": [
              "\u001b[1mModel: \"functional\"\u001b[0m\n"
            ]
          },
          "metadata": {},
          "output_type": "display_data"
        },
        {
          "output_type": "display_data",
          "data": {
            "text/plain": [
              "┏━━━━━━━━━━━━━━━━━━━━━━━━━━━━━━━━━━━━━━┳━━━━━━━━━━━━━━━━━━━━━━━━━━━━━┳━━━━━━━━━━━━━━━━━┓\n",
              "┃\u001b[1m \u001b[0m\u001b[1mLayer (type)                        \u001b[0m\u001b[1m \u001b[0m┃\u001b[1m \u001b[0m\u001b[1mOutput Shape               \u001b[0m\u001b[1m \u001b[0m┃\u001b[1m \u001b[0m\u001b[1m        Param #\u001b[0m\u001b[1m \u001b[0m┃\n",
              "┡━━━━━━━━━━━━━━━━━━━━━━━━━━━━━━━━━━━━━━╇━━━━━━━━━━━━━━━━━━━━━━━━━━━━━╇━━━━━━━━━━━━━━━━━┩\n",
              "│ input_layer (\u001b[38;5;33mInputLayer\u001b[0m)             │ (\u001b[38;5;45mNone\u001b[0m, \u001b[38;5;34m1301\u001b[0m)                │               \u001b[38;5;34m0\u001b[0m │\n",
              "├──────────────────────────────────────┼─────────────────────────────┼─────────────────┤\n",
              "│ embedding (\u001b[38;5;33mEmbedding\u001b[0m)                │ (\u001b[38;5;45mNone\u001b[0m, \u001b[38;5;34m1301\u001b[0m, \u001b[38;5;34m20\u001b[0m)            │       \u001b[38;5;34m2,174,600\u001b[0m │\n",
              "├──────────────────────────────────────┼─────────────────────────────┼─────────────────┤\n",
              "│ lstm (\u001b[38;5;33mLSTM\u001b[0m)                          │ (\u001b[38;5;45mNone\u001b[0m, \u001b[38;5;34m128\u001b[0m)                 │          \u001b[38;5;34m76,288\u001b[0m │\n",
              "├──────────────────────────────────────┼─────────────────────────────┼─────────────────┤\n",
              "│ dense (\u001b[38;5;33mDense\u001b[0m)                        │ (\u001b[38;5;45mNone\u001b[0m, \u001b[38;5;34m3\u001b[0m)                   │             \u001b[38;5;34m387\u001b[0m │\n",
              "└──────────────────────────────────────┴─────────────────────────────┴─────────────────┘\n"
            ],
            "text/html": [
              "<pre style=\"white-space:pre;overflow-x:auto;line-height:normal;font-family:Menlo,'DejaVu Sans Mono',consolas,'Courier New',monospace\">┏━━━━━━━━━━━━━━━━━━━━━━━━━━━━━━━━━━━━━━┳━━━━━━━━━━━━━━━━━━━━━━━━━━━━━┳━━━━━━━━━━━━━━━━━┓\n",
              "┃<span style=\"font-weight: bold\"> Layer (type)                         </span>┃<span style=\"font-weight: bold\"> Output Shape                </span>┃<span style=\"font-weight: bold\">         Param # </span>┃\n",
              "┡━━━━━━━━━━━━━━━━━━━━━━━━━━━━━━━━━━━━━━╇━━━━━━━━━━━━━━━━━━━━━━━━━━━━━╇━━━━━━━━━━━━━━━━━┩\n",
              "│ input_layer (<span style=\"color: #0087ff; text-decoration-color: #0087ff\">InputLayer</span>)             │ (<span style=\"color: #00d7ff; text-decoration-color: #00d7ff\">None</span>, <span style=\"color: #00af00; text-decoration-color: #00af00\">1301</span>)                │               <span style=\"color: #00af00; text-decoration-color: #00af00\">0</span> │\n",
              "├──────────────────────────────────────┼─────────────────────────────┼─────────────────┤\n",
              "│ embedding (<span style=\"color: #0087ff; text-decoration-color: #0087ff\">Embedding</span>)                │ (<span style=\"color: #00d7ff; text-decoration-color: #00d7ff\">None</span>, <span style=\"color: #00af00; text-decoration-color: #00af00\">1301</span>, <span style=\"color: #00af00; text-decoration-color: #00af00\">20</span>)            │       <span style=\"color: #00af00; text-decoration-color: #00af00\">2,174,600</span> │\n",
              "├──────────────────────────────────────┼─────────────────────────────┼─────────────────┤\n",
              "│ lstm (<span style=\"color: #0087ff; text-decoration-color: #0087ff\">LSTM</span>)                          │ (<span style=\"color: #00d7ff; text-decoration-color: #00d7ff\">None</span>, <span style=\"color: #00af00; text-decoration-color: #00af00\">128</span>)                 │          <span style=\"color: #00af00; text-decoration-color: #00af00\">76,288</span> │\n",
              "├──────────────────────────────────────┼─────────────────────────────┼─────────────────┤\n",
              "│ dense (<span style=\"color: #0087ff; text-decoration-color: #0087ff\">Dense</span>)                        │ (<span style=\"color: #00d7ff; text-decoration-color: #00d7ff\">None</span>, <span style=\"color: #00af00; text-decoration-color: #00af00\">3</span>)                   │             <span style=\"color: #00af00; text-decoration-color: #00af00\">387</span> │\n",
              "└──────────────────────────────────────┴─────────────────────────────┴─────────────────┘\n",
              "</pre>\n"
            ]
          },
          "metadata": {}
        },
        {
          "output_type": "display_data",
          "data": {
            "text/plain": [
              "\u001b[1m Total params: \u001b[0m\u001b[38;5;34m6,753,827\u001b[0m (25.76 MB)\n"
            ],
            "text/html": [
              "<pre style=\"white-space:pre;overflow-x:auto;line-height:normal;font-family:Menlo,'DejaVu Sans Mono',consolas,'Courier New',monospace\"><span style=\"font-weight: bold\"> Total params: </span><span style=\"color: #00af00; text-decoration-color: #00af00\">6,753,827</span> (25.76 MB)\n",
              "</pre>\n"
            ]
          },
          "metadata": {}
        },
        {
          "output_type": "display_data",
          "data": {
            "text/plain": [
              "\u001b[1m Trainable params: \u001b[0m\u001b[38;5;34m2,251,275\u001b[0m (8.59 MB)\n"
            ],
            "text/html": [
              "<pre style=\"white-space:pre;overflow-x:auto;line-height:normal;font-family:Menlo,'DejaVu Sans Mono',consolas,'Courier New',monospace\"><span style=\"font-weight: bold\"> Trainable params: </span><span style=\"color: #00af00; text-decoration-color: #00af00\">2,251,275</span> (8.59 MB)\n",
              "</pre>\n"
            ]
          },
          "metadata": {}
        },
        {
          "output_type": "display_data",
          "data": {
            "text/plain": [
              "\u001b[1m Non-trainable params: \u001b[0m\u001b[38;5;34m0\u001b[0m (0.00 B)\n"
            ],
            "text/html": [
              "<pre style=\"white-space:pre;overflow-x:auto;line-height:normal;font-family:Menlo,'DejaVu Sans Mono',consolas,'Courier New',monospace\"><span style=\"font-weight: bold\"> Non-trainable params: </span><span style=\"color: #00af00; text-decoration-color: #00af00\">0</span> (0.00 B)\n",
              "</pre>\n"
            ]
          },
          "metadata": {}
        },
        {
          "output_type": "display_data",
          "data": {
            "text/plain": [
              "\u001b[1m Optimizer params: \u001b[0m\u001b[38;5;34m4,502,552\u001b[0m (17.18 MB)\n"
            ],
            "text/html": [
              "<pre style=\"white-space:pre;overflow-x:auto;line-height:normal;font-family:Menlo,'DejaVu Sans Mono',consolas,'Courier New',monospace\"><span style=\"font-weight: bold\"> Optimizer params: </span><span style=\"color: #00af00; text-decoration-color: #00af00\">4,502,552</span> (17.18 MB)\n",
              "</pre>\n"
            ]
          },
          "metadata": {}
        }
      ]
    },
    {
      "cell_type": "code",
      "source": [
        "#evaluating the model performance\n",
        "model.evaluate(data_test,y_test)"
      ],
      "metadata": {
        "colab": {
          "base_uri": "https://localhost:8080/"
        },
        "id": "tYESnfgTMS6r",
        "outputId": "165818e2-0a7d-490e-e495-6d44aa8db09a"
      },
      "execution_count": 40,
      "outputs": [
        {
          "output_type": "stream",
          "name": "stdout",
          "text": [
            "\u001b[1m2064/2064\u001b[0m \u001b[32m━━━━━━━━━━━━━━━━━━━━\u001b[0m\u001b[37m\u001b[0m \u001b[1m1174s\u001b[0m 569ms/step - accuracy: 0.9525 - loss: 0.1581\n"
          ]
        },
        {
          "output_type": "execute_result",
          "data": {
            "text/plain": [
              "[0.15580327808856964, 0.9529974460601807]"
            ]
          },
          "metadata": {},
          "execution_count": 40
        }
      ]
    },
    {
      "cell_type": "code",
      "source": [
        "losses=pd.DataFrame(history.history)\n",
        "losses.plot()"
      ],
      "metadata": {
        "colab": {
          "base_uri": "https://localhost:8080/",
          "height": 450
        },
        "id": "Cnshhd2_MWjg",
        "outputId": "c0e94154-54a4-4149-abfb-e862e3f4d1f8"
      },
      "execution_count": 41,
      "outputs": [
        {
          "output_type": "execute_result",
          "data": {
            "text/plain": [
              "<Axes: >"
            ]
          },
          "metadata": {},
          "execution_count": 41
        },
        {
          "output_type": "display_data",
          "data": {
            "text/plain": [
              "<Figure size 640x480 with 1 Axes>"
            ],
            "image/png": "[encoded data removed]"
          },
          "metadata": {}
        }
      ]
    },
    {
      "cell_type": "code",
      "source": [
        "plt.plot(history.history['val_accuracy'],label='val_acc')\n",
        "plt.plot(history.history['accuracy'],label='accuracy')\n",
        "plt.legend()"
      ],
      "metadata": {
        "colab": {
          "base_uri": "https://localhost:8080/",
          "height": 447
        },
        "id": "eGJ9u7CkMZum",
        "outputId": "c78fe604-0c74-496f-c48b-529b43cdaa0b"
      },
      "execution_count": 42,
      "outputs": [
        {
          "output_type": "execute_result",
          "data": {
            "text/plain": [
              "<matplotlib.legend.Legend at 0x7c416b144eb0>"
            ]
          },
          "metadata": {},
          "execution_count": 42
        },
        {
          "output_type": "display_data",
          "data": {
            "text/plain": [
              "<Figure size 640x480 with 1 Axes>"
            ],
            "image/png": "[encoded data removed]"
          },
          "metadata": {}
        }
      ]
    },
    {
      "cell_type": "code",
      "source": [
        "plt.plot(history.history['loss'],label='loss')\n",
        "plt.plot(history.history['val_loss'],label='val_loss')\n",
        "plt.legend()"
      ],
      "metadata": {
        "colab": {
          "base_uri": "https://localhost:8080/",
          "height": 447
        },
        "id": "pv4tGFIhMaUS",
        "outputId": "af638bc7-0801-4623-81ea-677d921b9cbf"
      },
      "execution_count": 43,
      "outputs": [
        {
          "output_type": "execute_result",
          "data": {
            "text/plain": [
              "<matplotlib.legend.Legend at 0x7c416b1d1ed0>"
            ]
          },
          "metadata": {},
          "execution_count": 43
        },
        {
          "output_type": "display_data",
          "data": {
            "text/plain": [
              "<Figure size 640x480 with 1 Axes>"
            ],
            "image/png": "[encoded data removed]"
          },
          "metadata": {}
        }
      ]
    }
  ]
}